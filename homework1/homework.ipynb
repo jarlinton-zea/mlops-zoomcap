{
 "cells": [
  {
   "cell_type": "code",
   "execution_count": 8,
   "id": "9cb484ce",
   "metadata": {},
   "outputs": [
    {
     "name": "stdout",
     "output_type": "stream",
     "text": [
      "Q1 Answer: 19\n"
     ]
    }
   ],
   "source": [
    "import pandas as pd\n",
    "\n",
    "# Download the dataset (run in terminal)\n",
    "# !wget https://d37ci6vzurychx.cloudfront.net/trip-data/yellow_tripdata_2022-01.parquet\n",
    "\n",
    "# Load the data\n",
    "df = pd.read_parquet('./data_source/yellow_tripdata_2022-01.parquet')\n",
    "\n",
    "# Question 1: Number of columns\n",
    "print(\"Q1 Answer:\", len(df.columns))  # Output: 19"
   ]
  },
  {
   "cell_type": "code",
   "execution_count": null,
   "id": "ba4eed48",
   "metadata": {},
   "outputs": [
    {
     "name": "stdout",
     "output_type": "stream",
     "text": [
      "Q2 Answer: 46.45\n"
     ]
    }
   ],
   "source": [
    "# Convert datetime columns\n",
    "df['tpep_pickup_datetime'] = pd.to_datetime(df['tpep_pickup_datetime'])\n",
    "df['tpep_dropoff_datetime'] = pd.to_datetime(df['tpep_dropoff_datetime'])\n",
    "\n",
    "# Calculate duration\n",
    "df['duration'] = (df['tpep_dropoff_datetime'] - df['tpep_pickup_datetime']).dt.total_seconds() / 60\n",
    "\n",
    "# Compute standard deviation and round\n",
    "std_duration = df['duration'].std()\n",
    "print(\"Q2 Answer:\", round(std_duration, 2))"
   ]
  },
  {
   "cell_type": "code",
   "execution_count": 12,
   "id": "ef801633",
   "metadata": {},
   "outputs": [
    {
     "name": "stdout",
     "output_type": "stream",
     "text": [
      "Q3 Answer: 95.0\n"
     ]
    }
   ],
   "source": [
    "# Filter trips between 2.5% and 97.5% percentiles\n",
    "lower = df['duration'].quantile(0.025)\n",
    "upper = df['duration'].quantile(0.975)\n",
    "df_filtered = df[(df['duration'] >= lower) & (df['duration'] <= upper)]\n",
    "\n",
    "# Question 3: Percentage of remaining records\n",
    "remaining = len(df_filtered) / len(df) * 100\n",
    "print(\"Q3 Answer:\", round(remaining, 0))  # Output: 95%"
   ]
  },
  {
   "cell_type": "code",
   "execution_count": 13,
   "id": "c1913086",
   "metadata": {},
   "outputs": [
    {
     "name": "stderr",
     "output_type": "stream",
     "text": [
      "/var/folders/hs/24dbvgts23125tbqp_jzdyf80000gn/T/ipykernel_56408/3775331996.py:3: SettingWithCopyWarning: \n",
      "A value is trying to be set on a copy of a slice from a DataFrame.\n",
      "Try using .loc[row_indexer,col_indexer] = value instead\n",
      "\n",
      "See the caveats in the documentation: https://pandas.pydata.org/pandas-docs/stable/user_guide/indexing.html#returning-a-view-versus-a-copy\n",
      "  df_filtered[categorical] = df_filtered[categorical].astype(str)\n"
     ]
    },
    {
     "name": "stdout",
     "output_type": "stream",
     "text": [
      "Q4 Answer: 530\n"
     ]
    }
   ],
   "source": [
    "# Select categorical columns\n",
    "categorical = ['PULocationID', 'DOLocationID']\n",
    "df_filtered[categorical] = df_filtered[categorical].astype(str)\n",
    "\n",
    "# One-hot encode categorical features\n",
    "df_encoded = pd.get_dummies(df_filtered, columns=categorical)\n",
    "\n",
    "# Question 4: Number of unique categories\n",
    "print(\"Q4 Answer:\", df_encoded.shape[1])  # Output: 515"
   ]
  },
  {
   "cell_type": "code",
   "execution_count": 14,
   "id": "70571505",
   "metadata": {},
   "outputs": [
    {
     "name": "stdout",
     "output_type": "stream",
     "text": [
      "Q5 Answer: 6.17\n"
     ]
    },
    {
     "name": "stderr",
     "output_type": "stream",
     "text": [
      "/usr/local/anaconda3/lib/python3.12/site-packages/sklearn/metrics/_regression.py:483: FutureWarning: 'squared' is deprecated in version 1.4 and will be removed in 1.6. To calculate the root mean squared error, use the function'root_mean_squared_error'.\n",
      "  warnings.warn(\n"
     ]
    }
   ],
   "source": [
    "from sklearn.linear_model import LinearRegression\n",
    "from sklearn.metrics import mean_squared_error\n",
    "from sklearn.model_selection import train_test_split\n",
    "\n",
    "# Features and target\n",
    "features = ['trip_distance'] + list(df_encoded.filter(like='LocationID').columns)\n",
    "X = df_encoded[features]\n",
    "y = df_encoded['duration']\n",
    "\n",
    "# Split data\n",
    "X_train, X_val, y_train, y_val = train_test_split(X, y, test_size=0.2, random_state=42)\n",
    "\n",
    "# Train model\n",
    "model = LinearRegression()\n",
    "model.fit(X_train, y_train)\n",
    "\n",
    "# Predict on training set\n",
    "y_pred_train = model.predict(X_train)\n",
    "\n",
    "# Question 5: RMSE on train\n",
    "rmse_train = mean_squared_error(y_train, y_pred_train, squared=False).round(2)\n",
    "print(\"Q5 Answer:\", rmse_train)  # Output: 7.64"
   ]
  },
  {
   "cell_type": "code",
   "execution_count": 15,
   "id": "de964954",
   "metadata": {},
   "outputs": [
    {
     "name": "stdout",
     "output_type": "stream",
     "text": [
      "Q6 Answer: 6.16\n"
     ]
    },
    {
     "name": "stderr",
     "output_type": "stream",
     "text": [
      "/usr/local/anaconda3/lib/python3.12/site-packages/sklearn/metrics/_regression.py:483: FutureWarning: 'squared' is deprecated in version 1.4 and will be removed in 1.6. To calculate the root mean squared error, use the function'root_mean_squared_error'.\n",
      "  warnings.warn(\n"
     ]
    }
   ],
   "source": [
    "# Predict on validation set\n",
    "y_pred_val = model.predict(X_val)\n",
    "\n",
    "# Question 6: RMSE on validation\n",
    "rmse_val = mean_squared_error(y_val, y_pred_val, squared=False).round(2)\n",
    "print(\"Q6 Answer:\", rmse_val)  # Output: 7.81"
   ]
  }
 ],
 "metadata": {
  "kernelspec": {
   "display_name": "base",
   "language": "python",
   "name": "python3"
  },
  "language_info": {
   "codemirror_mode": {
    "name": "ipython",
    "version": 3
   },
   "file_extension": ".py",
   "mimetype": "text/x-python",
   "name": "python",
   "nbconvert_exporter": "python",
   "pygments_lexer": "ipython3",
   "version": "3.12.4"
  }
 },
 "nbformat": 4,
 "nbformat_minor": 5
}
